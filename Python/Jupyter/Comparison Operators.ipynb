{
 "cells": [
  {
   "cell_type": "code",
   "execution_count": 2,
   "id": "38c5c427",
   "metadata": {},
   "outputs": [],
   "source": [
    "a = 10\n",
    "b = 4\n",
    "c = 4"
   ]
  },
  {
   "cell_type": "markdown",
   "id": "08ad9a9e",
   "metadata": {},
   "source": [
    "### Equal to"
   ]
  },
  {
   "cell_type": "code",
   "execution_count": 3,
   "id": "71924c6b",
   "metadata": {},
   "outputs": [
    {
     "name": "stdout",
     "output_type": "stream",
     "text": [
      "False\n",
      "True\n"
     ]
    }
   ],
   "source": [
    "print(a == b)\n",
    "print(b == c)"
   ]
  },
  {
   "cell_type": "markdown",
   "id": "a84d16c6",
   "metadata": {},
   "source": [
    "### Not equal to"
   ]
  },
  {
   "cell_type": "code",
   "execution_count": 4,
   "id": "88fb72c8",
   "metadata": {},
   "outputs": [
    {
     "name": "stdout",
     "output_type": "stream",
     "text": [
      "False\n"
     ]
    }
   ],
   "source": [
    "print(b != c)"
   ]
  },
  {
   "cell_type": "markdown",
   "id": "1d3e554e",
   "metadata": {},
   "source": [
    "### Greater than and Less than"
   ]
  },
  {
   "cell_type": "code",
   "execution_count": 5,
   "id": "45328d27",
   "metadata": {},
   "outputs": [
    {
     "name": "stdout",
     "output_type": "stream",
     "text": [
      "False\n",
      "False\n",
      "False\n",
      "True\n"
     ]
    }
   ],
   "source": [
    "print(b > c)\n",
    "print(b < c)\n",
    "print(a < c)\n",
    "print(a > c)"
   ]
  },
  {
   "cell_type": "markdown",
   "id": "7c7be7d6",
   "metadata": {},
   "source": [
    "### Greater than equal to and Less than equal to"
   ]
  },
  {
   "cell_type": "code",
   "execution_count": 6,
   "id": "3a1c7ded",
   "metadata": {},
   "outputs": [
    {
     "name": "stdout",
     "output_type": "stream",
     "text": [
      "True\n",
      "True\n"
     ]
    }
   ],
   "source": [
    "print(b <= c)\n",
    "print(b >= c)"
   ]
  },
  {
   "cell_type": "code",
   "execution_count": null,
   "id": "167a4db0",
   "metadata": {},
   "outputs": [],
   "source": []
  }
 ],
 "metadata": {
  "kernelspec": {
   "display_name": "Python 3 (ipykernel)",
   "language": "python",
   "name": "python3"
  },
  "language_info": {
   "codemirror_mode": {
    "name": "ipython",
    "version": 3
   },
   "file_extension": ".py",
   "mimetype": "text/x-python",
   "name": "python",
   "nbconvert_exporter": "python",
   "pygments_lexer": "ipython3",
   "version": "3.9.1"
  }
 },
 "nbformat": 4,
 "nbformat_minor": 5
}
