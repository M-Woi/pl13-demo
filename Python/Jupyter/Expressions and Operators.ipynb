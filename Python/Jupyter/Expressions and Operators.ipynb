{
 "cells": [
  {
   "cell_type": "code",
   "execution_count": 1,
   "id": "8a69872a",
   "metadata": {},
   "outputs": [
    {
     "data": {
      "text/plain": [
       "12"
      ]
     },
     "execution_count": 1,
     "metadata": {},
     "output_type": "execute_result"
    }
   ],
   "source": [
    "6 + 6"
   ]
  },
  {
   "cell_type": "code",
   "execution_count": 3,
   "id": "25ee19c0",
   "metadata": {},
   "outputs": [
    {
     "name": "stdout",
     "output_type": "stream",
     "text": [
      "5.0\n",
      "20\n",
      "13\n",
      "60\n"
     ]
    }
   ],
   "source": [
    "print(10 / 2)\n",
    "print(10 + 10)\n",
    "print(15 - 2)\n",
    "print(5 * 12)"
   ]
  },
  {
   "cell_type": "code",
   "execution_count": null,
   "id": "582c2ea3",
   "metadata": {},
   "outputs": [],
   "source": []
  }
 ],
 "metadata": {
  "kernelspec": {
   "display_name": "Python 3 (ipykernel)",
   "language": "python",
   "name": "python3"
  },
  "language_info": {
   "codemirror_mode": {
    "name": "ipython",
    "version": 3
   },
   "file_extension": ".py",
   "mimetype": "text/x-python",
   "name": "python",
   "nbconvert_exporter": "python",
   "pygments_lexer": "ipython3",
   "version": "3.9.1"
  }
 },
 "nbformat": 4,
 "nbformat_minor": 5
}
