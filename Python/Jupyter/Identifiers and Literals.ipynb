{
 "cells": [
  {
   "cell_type": "code",
   "execution_count": 2,
   "id": "bc8143c3",
   "metadata": {},
   "outputs": [
    {
     "name": "stdout",
     "output_type": "stream",
     "text": [
      "Hello Python\n"
     ]
    }
   ],
   "source": [
    "greet=\"Hello Python\"\n",
    "print(greet)"
   ]
  },
  {
   "cell_type": "markdown",
   "id": "4a77812e",
   "metadata": {},
   "source": [
    "# Types of Literals"
   ]
  },
  {
   "cell_type": "markdown",
   "id": "4d799ef9",
   "metadata": {},
   "source": [
    "### Numeric Literals"
   ]
  },
  {
   "cell_type": "code",
   "execution_count": 3,
   "id": "d983bad0",
   "metadata": {},
   "outputs": [
    {
     "name": "stdout",
     "output_type": "stream",
     "text": [
      "<class 'int'>\n"
     ]
    }
   ],
   "source": [
    "a=10\n",
    "print(type(a))"
   ]
  },
  {
   "cell_type": "code",
   "execution_count": 4,
   "id": "84d2eb25",
   "metadata": {},
   "outputs": [
    {
     "name": "stdout",
     "output_type": "stream",
     "text": [
      "<class 'float'>\n"
     ]
    }
   ],
   "source": [
    "a=5.2\n",
    "print(type(a))"
   ]
  },
  {
   "cell_type": "markdown",
   "id": "49ff8a2e",
   "metadata": {},
   "source": [
    "### String Literals"
   ]
  },
  {
   "cell_type": "code",
   "execution_count": 6,
   "id": "a55d35b3",
   "metadata": {},
   "outputs": [
    {
     "name": "stdout",
     "output_type": "stream",
     "text": [
      "<class 'str'>\n"
     ]
    }
   ],
   "source": [
    "greet=\"Hello Python\"\n",
    "print(type(greet))"
   ]
  },
  {
   "cell_type": "code",
   "execution_count": 7,
   "id": "9cf48db2",
   "metadata": {},
   "outputs": [
    {
     "name": "stdout",
     "output_type": "stream",
     "text": [
      "<class 'str'>\n"
     ]
    }
   ],
   "source": [
    "greet='Hello Python'\n",
    "print(type(greet))"
   ]
  },
  {
   "cell_type": "markdown",
   "id": "b67ec3fe",
   "metadata": {},
   "source": [
    "### Boolean Literals"
   ]
  },
  {
   "cell_type": "code",
   "execution_count": 8,
   "id": "bb1425cd",
   "metadata": {},
   "outputs": [
    {
     "name": "stdout",
     "output_type": "stream",
     "text": [
      "<class 'bool'>\n"
     ]
    }
   ],
   "source": [
    "a=True\n",
    "print(type(a))"
   ]
  },
  {
   "cell_type": "code",
   "execution_count": 9,
   "id": "4b9299d8",
   "metadata": {},
   "outputs": [
    {
     "name": "stdout",
     "output_type": "stream",
     "text": [
      "<class 'bool'>\n"
     ]
    }
   ],
   "source": [
    "a=False\n",
    "print(type(a))"
   ]
  },
  {
   "cell_type": "code",
   "execution_count": null,
   "id": "6c602e40",
   "metadata": {},
   "outputs": [],
   "source": []
  }
 ],
 "metadata": {
  "kernelspec": {
   "display_name": "Python 3 (ipykernel)",
   "language": "python",
   "name": "python3"
  },
  "language_info": {
   "codemirror_mode": {
    "name": "ipython",
    "version": 3
   },
   "file_extension": ".py",
   "mimetype": "text/x-python",
   "name": "python",
   "nbconvert_exporter": "python",
   "pygments_lexer": "ipython3",
   "version": "3.9.1"
  }
 },
 "nbformat": 4,
 "nbformat_minor": 5
}
