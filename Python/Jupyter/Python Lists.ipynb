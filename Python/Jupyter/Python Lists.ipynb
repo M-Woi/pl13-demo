{
 "cells": [
  {
   "cell_type": "markdown",
   "id": "977cd150",
   "metadata": {},
   "source": [
    "### Creating Lists"
   ]
  },
  {
   "cell_type": "code",
   "execution_count": null,
   "id": "67d09e94",
   "metadata": {},
   "outputs": [],
   "source": [
    "my_list = [\"John\", \"Andy\", \"Olive\", \"Allie\", \"Jade\"]\n",
    "print(my_list)"
   ]
  },
  {
   "cell_type": "code",
   "execution_count": null,
   "id": "42ace872",
   "metadata": {},
   "outputs": [],
   "source": [
    "print(type(my_list))"
   ]
  },
  {
   "cell_type": "markdown",
   "id": "3d2a5564",
   "metadata": {},
   "source": [
    "##### Creating a list of numbers"
   ]
  },
  {
   "cell_type": "code",
   "execution_count": null,
   "id": "0a34a3f0",
   "metadata": {},
   "outputs": [],
   "source": [
    "numbers_list = [1, 2, 3, 4, 5]\n",
    "print(numbers_list)\n",
    "print(type(numbers_list))"
   ]
  },
  {
   "cell_type": "markdown",
   "id": "bd776d40",
   "metadata": {},
   "source": [
    "##### Creating a list with mixed data types"
   ]
  },
  {
   "cell_type": "code",
   "execution_count": null,
   "id": "1bbf8a52",
   "metadata": {},
   "outputs": [],
   "source": [
    "mixed_list = [1, 'john', 2.5]\n",
    "print(mixed_list)\n",
    "print(type(mixed_list))"
   ]
  },
  {
   "cell_type": "markdown",
   "id": "60ecded1",
   "metadata": {},
   "source": [
    "##### Creating a nested list"
   ]
  },
  {
   "cell_type": "code",
   "execution_count": null,
   "id": "175942bd",
   "metadata": {},
   "outputs": [],
   "source": [
    "mixed_list = [1, 'john', 2.5, ['a', 'b', 'c']]\n",
    "print(mixed_list)\n",
    "print(type(mixed_list))"
   ]
  },
  {
   "cell_type": "markdown",
   "id": "df2addd0",
   "metadata": {},
   "source": [
    "##### Creating an empty list using square brackets"
   ]
  },
  {
   "cell_type": "code",
   "execution_count": null,
   "id": "36bb1f3c",
   "metadata": {},
   "outputs": [],
   "source": [
    "empty_list1 = []\n",
    "print(empty_list1)\n",
    "print(type(empty_list1))"
   ]
  },
  {
   "cell_type": "markdown",
   "id": "70321321",
   "metadata": {},
   "source": [
    "### Accessing elements in Lists"
   ]
  },
  {
   "cell_type": "code",
   "execution_count": null,
   "id": "787d7ba9",
   "metadata": {},
   "outputs": [],
   "source": [
    "print(my_list[0])\n",
    "print(my_list[-5])"
   ]
  },
  {
   "cell_type": "code",
   "execution_count": null,
   "id": "0b6f5d96",
   "metadata": {},
   "outputs": [],
   "source": [
    "print(mixed_list)"
   ]
  },
  {
   "cell_type": "code",
   "execution_count": null,
   "id": "f9e1d245",
   "metadata": {},
   "outputs": [],
   "source": [
    "print(mixed_list[3][1])"
   ]
  },
  {
   "cell_type": "markdown",
   "id": "0abff75c",
   "metadata": {},
   "source": [
    "## Characteristics of list"
   ]
  },
  {
   "cell_type": "markdown",
   "id": "eab51941",
   "metadata": {},
   "source": [
    "### 1. List can be modified"
   ]
  },
  {
   "cell_type": "code",
   "execution_count": null,
   "id": "8d7c5c38",
   "metadata": {},
   "outputs": [],
   "source": [
    "my_list[0] = \"Jonny\"\n",
    "print(my_list)"
   ]
  },
  {
   "cell_type": "code",
   "execution_count": null,
   "id": "1eb7f503",
   "metadata": {},
   "outputs": [],
   "source": [
    "my_list.append(\"Rob\")\n",
    "print(my_list)"
   ]
  },
  {
   "cell_type": "markdown",
   "id": "69cf3393",
   "metadata": {},
   "source": [
    "### 2. Lists have an order"
   ]
  },
  {
   "cell_type": "code",
   "execution_count": null,
   "id": "11a2ac9b",
   "metadata": {},
   "outputs": [],
   "source": [
    "print(my_list)"
   ]
  },
  {
   "cell_type": "markdown",
   "id": "aef32e37",
   "metadata": {},
   "source": [
    "### 3. List allows duplicates"
   ]
  },
  {
   "cell_type": "code",
   "execution_count": null,
   "id": "6b6c36b7",
   "metadata": {},
   "outputs": [],
   "source": [
    "my_list_new = [\"John\", \"Andy\", \"Andy\", \"Olive\", \"Allie\", \"Jade\"]\n",
    "print(my_list_new)"
   ]
  },
  {
   "cell_type": "code",
   "execution_count": null,
   "id": "b30976f3",
   "metadata": {},
   "outputs": [],
   "source": []
  }
 ],
 "metadata": {
  "kernelspec": {
   "display_name": "Python 3 (ipykernel)",
   "language": "python",
   "name": "python3"
  },
  "language_info": {
   "codemirror_mode": {
    "name": "ipython",
    "version": 3
   },
   "file_extension": ".py",
   "mimetype": "text/x-python",
   "name": "python",
   "nbconvert_exporter": "python",
   "pygments_lexer": "ipython3",
   "version": "3.9.1"
  }
 },
 "nbformat": 4,
 "nbformat_minor": 5
}
