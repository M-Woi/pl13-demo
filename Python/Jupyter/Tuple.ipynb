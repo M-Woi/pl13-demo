{
 "cells": [
  {
   "cell_type": "markdown",
   "id": "ef2642d9",
   "metadata": {},
   "source": [
    "### Creating Tuple"
   ]
  },
  {
   "cell_type": "code",
   "execution_count": null,
   "id": "3b330bcc",
   "metadata": {},
   "outputs": [],
   "source": [
    "my_tuple = ('apple', 'banana', 'cherry')\n",
    "print(my_tuple)"
   ]
  },
  {
   "cell_type": "code",
   "execution_count": null,
   "id": "0dcf47c3",
   "metadata": {},
   "outputs": [],
   "source": [
    "print(type(my_tuple))"
   ]
  },
  {
   "cell_type": "markdown",
   "id": "cd32abee",
   "metadata": {},
   "source": [
    "##### Creating a tuple with one element"
   ]
  },
  {
   "cell_type": "code",
   "execution_count": null,
   "id": "111e6a06",
   "metadata": {},
   "outputs": [],
   "source": [
    "single_element_tuple = ('apple')\n",
    "print(type(single_element_tuple))"
   ]
  },
  {
   "cell_type": "code",
   "execution_count": null,
   "id": "510143aa",
   "metadata": {},
   "outputs": [],
   "source": [
    "single_element_tuple = ('apple',)\n",
    "print(single_element_tuple)\n",
    "print(type(single_element_tuple))"
   ]
  },
  {
   "cell_type": "markdown",
   "id": "c255cfc5",
   "metadata": {},
   "source": [
    "##### Tuple with mixed type"
   ]
  },
  {
   "cell_type": "code",
   "execution_count": null,
   "id": "101b7549",
   "metadata": {},
   "outputs": [],
   "source": [
    "mixed_tuple = ('apple', 'banana', 'cherry', 10, 11.5)\n",
    "print(mixed_tuple)"
   ]
  },
  {
   "cell_type": "markdown",
   "id": "bdc1bb9b",
   "metadata": {},
   "source": [
    "##### Creating an empty tuple"
   ]
  },
  {
   "cell_type": "code",
   "execution_count": null,
   "id": "7c8cae39",
   "metadata": {},
   "outputs": [],
   "source": [
    "empty_tuple = ()\n",
    "print(empty_tuple)\n",
    "print(type(empty_tuple))"
   ]
  },
  {
   "cell_type": "markdown",
   "id": "58ca4199",
   "metadata": {},
   "source": [
    "### Accessing elements"
   ]
  },
  {
   "cell_type": "code",
   "execution_count": null,
   "id": "0f487f3a",
   "metadata": {},
   "outputs": [],
   "source": [
    "print(my_tuple[0])"
   ]
  },
  {
   "cell_type": "code",
   "execution_count": null,
   "id": "f0e477ac",
   "metadata": {},
   "outputs": [],
   "source": [
    "print(my_tuple[2])"
   ]
  },
  {
   "cell_type": "markdown",
   "id": "50287387",
   "metadata": {},
   "source": [
    "##### Using in operator"
   ]
  },
  {
   "cell_type": "code",
   "execution_count": null,
   "id": "54fee609",
   "metadata": {},
   "outputs": [],
   "source": [
    "print('apple' in my_tuple)"
   ]
  },
  {
   "cell_type": "code",
   "execution_count": null,
   "id": "65a8017b",
   "metadata": {},
   "outputs": [],
   "source": [
    "print('apple' not in my_tuple)"
   ]
  },
  {
   "cell_type": "code",
   "execution_count": null,
   "id": "9c12ab5a",
   "metadata": {},
   "outputs": [],
   "source": [
    "print('watermelon' in my_tuple)"
   ]
  },
  {
   "cell_type": "code",
   "execution_count": null,
   "id": "b05d0420",
   "metadata": {},
   "outputs": [],
   "source": [
    "print('watermelon' not in my_tuple)"
   ]
  },
  {
   "cell_type": "markdown",
   "id": "f2dde116",
   "metadata": {},
   "source": [
    "##### Tuple Packing"
   ]
  },
  {
   "cell_type": "code",
   "execution_count": null,
   "id": "fee9d8d6",
   "metadata": {},
   "outputs": [],
   "source": [
    "name = \"John\"\n",
    "age = 25\n",
    "city = \"New York\"\n",
    "\n",
    "packed_tuple = name, age, city\n",
    "print(packed_tuple)"
   ]
  },
  {
   "cell_type": "markdown",
   "id": "629cd23f",
   "metadata": {},
   "source": [
    "##### Tuple Unpacking"
   ]
  },
  {
   "cell_type": "code",
   "execution_count": null,
   "id": "3569c3f1",
   "metadata": {},
   "outputs": [],
   "source": [
    "person = ('John', 25, 'New York')\n",
    "\n",
    "name, age, city = person\n",
    "\n",
    "print(name)\n",
    "print(age)\n",
    "print(city)"
   ]
  },
  {
   "cell_type": "markdown",
   "id": "9098e9c7",
   "metadata": {},
   "source": [
    "##### Tuples being used in a function"
   ]
  },
  {
   "cell_type": "code",
   "execution_count": null,
   "id": "f19678fe",
   "metadata": {},
   "outputs": [],
   "source": [
    "def get_user_info():\n",
    "    name = \"John Doe\"\n",
    "    age = 30\n",
    "    city = \"Los Angeles\"\n",
    "    return name, age, city \n",
    "\n",
    "name, age, city = get_user_info()\n",
    "\n",
    "print(\"Name:\",name)\n",
    "print(\"Age:\",age)\n",
    "print(\"City:\",city)"
   ]
  },
  {
   "cell_type": "markdown",
   "id": "3c73bd72",
   "metadata": {},
   "source": [
    "## Characteristics of Tuple"
   ]
  },
  {
   "cell_type": "markdown",
   "id": "bb66a31d",
   "metadata": {},
   "source": [
    "### 1. You cannot modify a Tuple"
   ]
  },
  {
   "cell_type": "code",
   "execution_count": null,
   "id": "d516254e",
   "metadata": {},
   "outputs": [],
   "source": [
    "my_tuple[0] = \"Jonny\"\n",
    "print(my_tuple)"
   ]
  },
  {
   "cell_type": "markdown",
   "id": "56d04beb",
   "metadata": {},
   "source": [
    "### 2. Tuples have an order"
   ]
  },
  {
   "cell_type": "code",
   "execution_count": null,
   "id": "eeff4bf6",
   "metadata": {},
   "outputs": [],
   "source": [
    "print(my_tuple)"
   ]
  },
  {
   "cell_type": "markdown",
   "id": "361b0e48",
   "metadata": {},
   "source": [
    "### 3. Tuples allows duplicates"
   ]
  },
  {
   "cell_type": "code",
   "execution_count": null,
   "id": "3d4d3174",
   "metadata": {},
   "outputs": [],
   "source": [
    "my_tuple_new = (\"John\", \"Andy\", \"Andy\", \"Olive\", \"Allie\", \"Jade\")\n",
    "print(my_tuple_new)"
   ]
  },
  {
   "cell_type": "code",
   "execution_count": null,
   "id": "cea5cd5b",
   "metadata": {},
   "outputs": [],
   "source": []
  }
 ],
 "metadata": {
  "kernelspec": {
   "display_name": "Python 3 (ipykernel)",
   "language": "python",
   "name": "python3"
  },
  "language_info": {
   "codemirror_mode": {
    "name": "ipython",
    "version": 3
   },
   "file_extension": ".py",
   "mimetype": "text/x-python",
   "name": "python",
   "nbconvert_exporter": "python",
   "pygments_lexer": "ipython3",
   "version": "3.9.1"
  }
 },
 "nbformat": 4,
 "nbformat_minor": 5
}
