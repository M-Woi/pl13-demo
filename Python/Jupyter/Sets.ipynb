{
 "cells": [
  {
   "cell_type": "markdown",
   "id": "1111589f",
   "metadata": {},
   "source": [
    "## Creating a set"
   ]
  },
  {
   "cell_type": "code",
   "execution_count": null,
   "id": "2bdf37a0",
   "metadata": {},
   "outputs": [],
   "source": [
    "my_set = {'john@example.com', 'jane@example.com', 'doe@example.com'}\n",
    "print(my_set)"
   ]
  },
  {
   "cell_type": "code",
   "execution_count": null,
   "id": "0dfd7e57",
   "metadata": {},
   "outputs": [],
   "source": [
    "print(type(my_set))"
   ]
  },
  {
   "cell_type": "markdown",
   "id": "a4e1a3b1",
   "metadata": {},
   "source": [
    "##### Creating a set of numbers"
   ]
  },
  {
   "cell_type": "code",
   "execution_count": null,
   "id": "7a95d064",
   "metadata": {},
   "outputs": [],
   "source": [
    "numbers_set = {1, 2, 13, 4, 5.0, 6.7}\n",
    "print(numbers_set)\n",
    "print(type(numbers_set))"
   ]
  },
  {
   "cell_type": "markdown",
   "id": "b3507c96",
   "metadata": {},
   "source": [
    "##### Creating a set with mixed types"
   ]
  },
  {
   "cell_type": "code",
   "execution_count": null,
   "id": "61e2f67a",
   "metadata": {},
   "outputs": [],
   "source": [
    "mixed_set = {1, 1.5, \"Hello\"}\n",
    "print(mixed_set)\n",
    "print(type(mixed_set))"
   ]
  },
  {
   "cell_type": "markdown",
   "id": "4ef86d40",
   "metadata": {},
   "source": [
    "##### Creating empty sets"
   ]
  },
  {
   "cell_type": "code",
   "execution_count": null,
   "id": "8bf9e326",
   "metadata": {},
   "outputs": [],
   "source": [
    "empty_set = {}  \n",
    "print(empty_set)\n",
    "print(type(empty_set))"
   ]
  },
  {
   "cell_type": "code",
   "execution_count": null,
   "id": "5130e6a2",
   "metadata": {},
   "outputs": [],
   "source": [
    "empty_set = set() \n",
    "print(empty_set)\n",
    "print(type(empty_set))"
   ]
  },
  {
   "cell_type": "markdown",
   "id": "07307ddd",
   "metadata": {},
   "source": [
    "##### Creating sets using lists"
   ]
  },
  {
   "cell_type": "code",
   "execution_count": null,
   "id": "3836acd3",
   "metadata": {},
   "outputs": [],
   "source": [
    "list= ['john@example.com', 'jane@example.com', 'doe@example.com']\n",
    "print(type(list))"
   ]
  },
  {
   "cell_type": "code",
   "execution_count": null,
   "id": "ab572968",
   "metadata": {},
   "outputs": [],
   "source": [
    "list_set = set(list)\n",
    "print(type(list_set))"
   ]
  },
  {
   "cell_type": "markdown",
   "id": "cde751b9",
   "metadata": {},
   "source": [
    "### Accessing elements"
   ]
  },
  {
   "cell_type": "code",
   "execution_count": null,
   "id": "2843a855",
   "metadata": {},
   "outputs": [],
   "source": [
    "print(my_set[0])"
   ]
  },
  {
   "cell_type": "code",
   "execution_count": null,
   "id": "c961955e",
   "metadata": {},
   "outputs": [],
   "source": [
    "for email in my_set:\n",
    "    print(email)"
   ]
  },
  {
   "cell_type": "markdown",
   "id": "f89488e8",
   "metadata": {},
   "source": [
    "##### Using in operator"
   ]
  },
  {
   "cell_type": "code",
   "execution_count": null,
   "id": "93a7e076",
   "metadata": {},
   "outputs": [],
   "source": [
    "print('john@example.com' in my_set)"
   ]
  },
  {
   "cell_type": "code",
   "execution_count": null,
   "id": "bc02e65b",
   "metadata": {},
   "outputs": [],
   "source": [
    "print('john@example.com' not in my_set)"
   ]
  },
  {
   "cell_type": "code",
   "execution_count": null,
   "id": "d29c86de",
   "metadata": {},
   "outputs": [],
   "source": [
    "print('john22@example.com' in my_set)"
   ]
  },
  {
   "cell_type": "code",
   "execution_count": null,
   "id": "56142ed1",
   "metadata": {},
   "outputs": [],
   "source": [
    "print('john22@example.com' not in my_set)"
   ]
  },
  {
   "cell_type": "markdown",
   "id": "7a9a1005",
   "metadata": {},
   "source": [
    "## Characteristics of set"
   ]
  },
  {
   "cell_type": "markdown",
   "id": "1ae03229",
   "metadata": {},
   "source": [
    "### 1. You cannot modify a set after its created"
   ]
  },
  {
   "cell_type": "code",
   "execution_count": null,
   "id": "eeebab7a",
   "metadata": {},
   "outputs": [],
   "source": [
    "my_set[0] = \"jonny@example.com\"\n",
    "print(my_set)"
   ]
  },
  {
   "cell_type": "markdown",
   "id": "8a750d9f",
   "metadata": {},
   "source": [
    "### 2. Sets don't have an order"
   ]
  },
  {
   "cell_type": "code",
   "execution_count": null,
   "id": "9b9aa397",
   "metadata": {},
   "outputs": [],
   "source": [
    "print(my_set)"
   ]
  },
  {
   "cell_type": "markdown",
   "id": "86ce9817",
   "metadata": {},
   "source": [
    "### 3. Sets does not allow duplicates"
   ]
  },
  {
   "cell_type": "code",
   "execution_count": null,
   "id": "de95c026",
   "metadata": {},
   "outputs": [],
   "source": [
    "my_set_new = {'john@example.com', 'jane@example.com', 'jane@example.com', 'doe@example.com'}\n",
    "print(my_set_new)"
   ]
  },
  {
   "cell_type": "code",
   "execution_count": null,
   "id": "8d047ebb",
   "metadata": {},
   "outputs": [],
   "source": []
  }
 ],
 "metadata": {
  "kernelspec": {
   "display_name": "Python 3 (ipykernel)",
   "language": "python",
   "name": "python3"
  },
  "language_info": {
   "codemirror_mode": {
    "name": "ipython",
    "version": 3
   },
   "file_extension": ".py",
   "mimetype": "text/x-python",
   "name": "python",
   "nbconvert_exporter": "python",
   "pygments_lexer": "ipython3",
   "version": "3.9.1"
  }
 },
 "nbformat": 4,
 "nbformat_minor": 5
}
